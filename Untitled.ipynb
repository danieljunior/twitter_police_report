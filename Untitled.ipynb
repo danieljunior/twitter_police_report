{
 "cells": [
  {
   "cell_type": "code",
   "execution_count": 41,
   "metadata": {},
   "outputs": [],
   "source": [
    "import pandas as pd\n",
    "import re\n",
    "import string\n",
    "\n",
    "csv = pd.read_csv('data/non_tagged/filtered.csv')\n",
    "# remove links\n",
    "clean = [re.sub(r\"http\\S+\", \"\", text) for text in csv['text']]\n",
    "\n",
    "emoji_pattern = re.compile(\"[\"\n",
    "        u\"\\U0001F600-\\U0001F64F\"  # emoticons\n",
    "        u\"\\U0001F300-\\U0001F5FF\"  # symbols & pictographs\n",
    "        u\"\\U0001F680-\\U0001F6FF\"  # transport & map symbols\n",
    "        u\"\\U0001F1E0-\\U0001F1FF\"  # flags (iOS)\n",
    "                           \"]+\", flags=re.UNICODE)\n",
    "# remove emojis\n",
    "clean = [emoji_pattern.sub(r'', text) for text in clean]\n",
    "#troca pontuacao por espaço\n",
    "clean = [re.sub(r'[^\\w\\s]',' ',text) for text in clean]\n",
    "# troca esse caracter especial por espaço\n",
    "clean = [text.replace(u'\\xa0', u' ') for text in clean]\n",
    "# troca quebra de linha por espaço\n",
    "clean = [text.replace('\\n', ' ') for text in clean]\n",
    "# remove espaços duplos entre palavras\n",
    "clean = [' '.join(text.split()) for text in clean]\n",
    "# remove espaços do inicio e do final da sentença\n",
    "clean = [text.strip() for text in clean]\n",
    "conll = open('data/tagged/conll_file.conll',\"w+\")\n",
    "for text in clean:\n",
    "    tokens = text.split(' ')\n",
    "    for i in range(len(tokens)):\n",
    "        array_line = [i+1, tokens[i], tokens[i].lower(), '-','-','-','-','-','-','-']\n",
    "        line = '\\t'.join([str(x) for x in array_line])\n",
    "        conll.write(line)\n",
    "        conll.write('\\n')\n",
    "    array_line = [len(tokens), '.', '.', 'pu','-','-','-','-','-','-']\n",
    "    line = '\\t'.join([str(x) for x in array_line])\n",
    "    conll.write(line)\n",
    "    conll.write('\\n')\n",
    "    conll.write('\\n')\n",
    "conll.close()"
   ]
  }
 ],
 "metadata": {
  "kernelspec": {
   "display_name": "Python 3",
   "language": "python",
   "name": "python3"
  },
  "language_info": {
   "codemirror_mode": {
    "name": "ipython",
    "version": 3
   },
   "file_extension": ".py",
   "mimetype": "text/x-python",
   "name": "python",
   "nbconvert_exporter": "python",
   "pygments_lexer": "ipython3",
   "version": "3.7.3"
  }
 },
 "nbformat": 4,
 "nbformat_minor": 2
}
