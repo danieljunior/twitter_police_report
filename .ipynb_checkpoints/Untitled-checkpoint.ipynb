{
 "cells": [
  {
   "cell_type": "code",
   "execution_count": 44,
   "metadata": {},
   "outputs": [],
   "source": [
    "import pandas as pd\n",
    "import re\n",
    "import string\n",
    "\n",
    "csv = pd.read_csv('data/non_tagged/filtered.csv')\n",
    "# remove links\n",
    "clean = [re.sub(r\"http\\S+\", \"\", text) for text in csv['text']]\n",
    "\n",
    "emoji_pattern = re.compile(\"[\"\n",
    "        u\"\\U0001F600-\\U0001F64F\"  # emoticons\n",
    "        u\"\\U0001F300-\\U0001F5FF\"  # symbols & pictographs\n",
    "        u\"\\U0001F680-\\U0001F6FF\"  # transport & map symbols\n",
    "        u\"\\U0001F1E0-\\U0001F1FF\"  # flags (iOS)\n",
    "                           \"]+\", flags=re.UNICODE)\n",
    "# remove emojis\n",
    "clean = [emoji_pattern.sub(r'', text) for text in clean]\n",
    "#troca pontuacao por espaço\n",
    "clean = [re.sub(r'[^\\w\\s]',' ',text) for text in clean]\n",
    "# troca esse caracter especial por espaço\n",
    "clean = [text.replace(u'\\xa0', u' ') for text in clean]\n",
    "# troca quebra de linha por espaço\n",
    "clean = [text.replace('\\n', ' ') for text in clean]\n",
    "# remove espaços duplos entre palavras\n",
    "clean = [' '.join(text.split()) for text in clean]\n",
    "# remove espaços do inicio e do final da sentença\n",
    "clean = [text.strip() for text in clean]\n",
    "conll = open('data/tagged/conll_file.conll',\"w+\")\n",
    "for text in clean:\n",
    "    tokens = text.split(' ')\n",
    "    for i in range(len(tokens)):\n",
    "        array_line = [i+1, tokens[i], tokens[i].lower(), '-','-','-','-','-','-','*']\n",
    "        line = '\\t'.join([str(x) for x in array_line])\n",
    "        conll.write(line)\n",
    "        conll.write('\\n')\n",
    "    array_line = [len(tokens), '.', '.', 'pu','-','-','-','-','-','-']\n",
    "    line = '\\t'.join([str(x) for x in array_line])\n",
    "    conll.write(line)\n",
    "    conll.write('\\n')\n",
    "    conll.write('\\n')\n",
    "conll.close()"
   ]
  },
  {
   "cell_type": "code",
   "execution_count": 52,
   "metadata": {
    "scrolled": true
   },
   "outputs": [
    {
     "ename": "OSError",
     "evalue": "[E050] Can't find model 'pt_core_news_sm-2.1.0'. It doesn't seem to be a shortcut link, a Python package or a valid path to a data directory.",
     "output_type": "error",
     "traceback": [
      "\u001b[0;31m---------------------------------------------------------------------------\u001b[0m",
      "\u001b[0;31mOSError\u001b[0m                                   Traceback (most recent call last)",
      "\u001b[0;32m<ipython-input-52-7f88d4b407cc>\u001b[0m in \u001b[0;36m<module>\u001b[0;34m\u001b[0m\n\u001b[1;32m      1\u001b[0m \u001b[0;32mimport\u001b[0m \u001b[0mspacy\u001b[0m\u001b[0;34m\u001b[0m\u001b[0;34m\u001b[0m\u001b[0m\n\u001b[0;32m----> 2\u001b[0;31m \u001b[0mnlp\u001b[0m \u001b[0;34m=\u001b[0m \u001b[0mspacy\u001b[0m\u001b[0;34m.\u001b[0m\u001b[0mload\u001b[0m\u001b[0;34m(\u001b[0m\u001b[0;34m'pt_core_news_sm-2.1.0'\u001b[0m\u001b[0;34m)\u001b[0m\u001b[0;34m\u001b[0m\u001b[0;34m\u001b[0m\u001b[0m\n\u001b[0m\u001b[1;32m      3\u001b[0m \u001b[0;32mimport\u001b[0m \u001b[0mpandas\u001b[0m \u001b[0;32mas\u001b[0m \u001b[0mpd\u001b[0m\u001b[0;34m\u001b[0m\u001b[0;34m\u001b[0m\u001b[0m\n\u001b[1;32m      4\u001b[0m \u001b[0;32mimport\u001b[0m \u001b[0mre\u001b[0m\u001b[0;34m\u001b[0m\u001b[0;34m\u001b[0m\u001b[0m\n\u001b[1;32m      5\u001b[0m \u001b[0;32mimport\u001b[0m \u001b[0mstring\u001b[0m\u001b[0;34m\u001b[0m\u001b[0;34m\u001b[0m\u001b[0m\n",
      "\u001b[0;32m~/anaconda3/lib/python3.7/site-packages/spacy/__init__.py\u001b[0m in \u001b[0;36mload\u001b[0;34m(name, **overrides)\u001b[0m\n\u001b[1;32m     19\u001b[0m \u001b[0;32mif\u001b[0m \u001b[0msys\u001b[0m\u001b[0;34m.\u001b[0m\u001b[0mmaxunicode\u001b[0m \u001b[0;34m==\u001b[0m \u001b[0;36m65535\u001b[0m\u001b[0;34m:\u001b[0m\u001b[0;34m\u001b[0m\u001b[0;34m\u001b[0m\u001b[0m\n\u001b[1;32m     20\u001b[0m     \u001b[0;32mraise\u001b[0m \u001b[0mSystemError\u001b[0m\u001b[0;34m(\u001b[0m\u001b[0mErrors\u001b[0m\u001b[0;34m.\u001b[0m\u001b[0mE130\u001b[0m\u001b[0;34m)\u001b[0m\u001b[0;34m\u001b[0m\u001b[0;34m\u001b[0m\u001b[0m\n\u001b[0;32m---> 21\u001b[0;31m \u001b[0;34m\u001b[0m\u001b[0m\n\u001b[0m\u001b[1;32m     22\u001b[0m \u001b[0;34m\u001b[0m\u001b[0m\n\u001b[1;32m     23\u001b[0m \u001b[0;32mdef\u001b[0m \u001b[0mload\u001b[0m\u001b[0;34m(\u001b[0m\u001b[0mname\u001b[0m\u001b[0;34m,\u001b[0m \u001b[0;34m**\u001b[0m\u001b[0moverrides\u001b[0m\u001b[0;34m)\u001b[0m\u001b[0;34m:\u001b[0m\u001b[0;34m\u001b[0m\u001b[0;34m\u001b[0m\u001b[0m\n",
      "\u001b[0;32m~/anaconda3/lib/python3.7/site-packages/spacy/util.py\u001b[0m in \u001b[0;36mload_model\u001b[0;34m(name, **overrides)\u001b[0m\n\u001b[1;32m    117\u001b[0m \u001b[0;32mdef\u001b[0m \u001b[0mload_model\u001b[0m\u001b[0;34m(\u001b[0m\u001b[0mname\u001b[0m\u001b[0;34m,\u001b[0m \u001b[0;34m**\u001b[0m\u001b[0moverrides\u001b[0m\u001b[0;34m)\u001b[0m\u001b[0;34m:\u001b[0m\u001b[0;34m\u001b[0m\u001b[0;34m\u001b[0m\u001b[0m\n\u001b[1;32m    118\u001b[0m     \"\"\"Load a model from a shortcut link, package or data path.\n\u001b[0;32m--> 119\u001b[0;31m \u001b[0;34m\u001b[0m\u001b[0m\n\u001b[0m\u001b[1;32m    120\u001b[0m     \u001b[0mname\u001b[0m \u001b[0;34m(\u001b[0m\u001b[0municode\u001b[0m\u001b[0;34m)\u001b[0m\u001b[0;34m:\u001b[0m \u001b[0mPackage\u001b[0m \u001b[0mname\u001b[0m\u001b[0;34m,\u001b[0m \u001b[0mshortcut\u001b[0m \u001b[0mlink\u001b[0m \u001b[0;32mor\u001b[0m \u001b[0mmodel\u001b[0m \u001b[0mpath\u001b[0m\u001b[0;34m.\u001b[0m\u001b[0;34m\u001b[0m\u001b[0;34m\u001b[0m\u001b[0m\n\u001b[1;32m    121\u001b[0m     \u001b[0;34m**\u001b[0m\u001b[0moverrides\u001b[0m\u001b[0;34m:\u001b[0m \u001b[0mSpecific\u001b[0m \u001b[0moverrides\u001b[0m\u001b[0;34m,\u001b[0m \u001b[0mlike\u001b[0m \u001b[0mpipeline\u001b[0m \u001b[0mcomponents\u001b[0m \u001b[0mto\u001b[0m \u001b[0mdisable\u001b[0m\u001b[0;34m.\u001b[0m\u001b[0;34m\u001b[0m\u001b[0;34m\u001b[0m\u001b[0m\n",
      "\u001b[0;31mOSError\u001b[0m: [E050] Can't find model 'pt_core_news_sm-2.1.0'. It doesn't seem to be a shortcut link, a Python package or a valid path to a data directory."
     ]
    }
   ],
   "source": [
    "import spacy\n",
    "nlp = spacy.load('pt_core_news_sm')\n",
    "import pandas as pd\n",
    "import re\n",
    "import string\n",
    "\n",
    "csv = pd.read_csv('data/non_tagged/filtered.csv')\n",
    "# remove links\n",
    "clean = [re.sub(r\"http\\S+\", \"\", text) for text in csv['text']]\n",
    "\n",
    "emoji_pattern = re.compile(\"[\"\n",
    "        u\"\\U0001F600-\\U0001F64F\"  # emoticons\n",
    "        u\"\\U0001F300-\\U0001F5FF\"  # symbols & pictographs\n",
    "        u\"\\U0001F680-\\U0001F6FF\"  # transport & map symbols\n",
    "        u\"\\U0001F1E0-\\U0001F1FF\"  # flags (iOS)\n",
    "                           \"]+\", flags=re.UNICODE)\n",
    "# remove emojis\n",
    "clean = [emoji_pattern.sub(r'', text) for text in clean]\n",
    "#troca pontuacao por espaço\n",
    "clean = [re.sub(r'[^\\w\\s]',' ',text) for text in clean]\n",
    "# troca esse caracter especial por espaço\n",
    "clean = [text.replace(u'\\xa0', u' ') for text in clean]\n",
    "# troca quebra de linha por espaço\n",
    "clean = [text.replace('\\n', ' ') for text in clean]\n",
    "# remove espaços duplos entre palavras\n",
    "clean = [' '.join(text.split()) for text in clean]\n",
    "# remove espaços do inicio e do final da sentença\n",
    "clean = [text.strip() + '.' for text in clean]\n",
    "conll = open('data/tagged/test_conll_file.conll',\"w+\")\n",
    "for text in clean:\n",
    "    doc = nlp(text)\n",
    "    tokens = [(token.orth_, token.lemma_, token.pos_) for token in doc]\n",
    "    for i in range(len(tokens)):\n",
    "        array_line = [i+1, tokens[i][0], tokens[i][1].lower(), tokens[i][2],'-','-','-','-','-','*']\n",
    "        line = '\\t'.join([str(x) for x in array_line])\n",
    "        conll.write(line)\n",
    "        conll.write('\\n')\n",
    "    line = '\\t'.join([str(x) for x in array_line])\n",
    "    conll.write(line)\n",
    "    conll.write('\\n')\n",
    "    conll.write('\\n')\n",
    "conll.close()"
   ]
  }
 ],
 "metadata": {
  "kernelspec": {
   "display_name": "Python 3",
   "language": "python",
   "name": "python3"
  },
  "language_info": {
   "codemirror_mode": {
    "name": "ipython",
    "version": 3
   },
   "file_extension": ".py",
   "mimetype": "text/x-python",
   "name": "python",
   "nbconvert_exporter": "python",
   "pygments_lexer": "ipython3",
   "version": "3.7.3"
  }
 },
 "nbformat": 4,
 "nbformat_minor": 2
}
